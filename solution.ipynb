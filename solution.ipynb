{
 "cells": [
  {
   "cell_type": "markdown",
   "id": "28bcd0b4",
   "metadata": {},
   "source": [
    "## Этап 1. Сбор и подготовка данных"
   ]
  },
  {
   "cell_type": "code",
   "execution_count": 1,
   "id": "98717df6",
   "metadata": {},
   "outputs": [
    {
     "name": "stderr",
     "output_type": "stream",
     "text": [
      "/Users/pavelstepanov/dl_projects/text-autocomplete/.venv/lib/python3.12/site-packages/tqdm/auto.py:21: TqdmWarning: IProgress not found. Please update jupyter and ipywidgets. See https://ipywidgets.readthedocs.io/en/stable/user_install.html\n",
      "  from .autonotebook import tqdm as notebook_tqdm\n"
     ]
    }
   ],
   "source": [
    "from datetime import datetime\n",
    "import json\n",
    "import random\n",
    "\n",
    "import matplotlib.pyplot as plt\n",
    "import torch\n",
    "from torch.utils.data import DataLoader\n",
    "\n",
    "from src.baseline_comparison import DistilGPT2Baseline\n",
    "from src.model_evaluation import compare_models, generate_examples\n",
    "from src.configs import CONFIG, DATA_PATH, PROJECT_PATH, TOKENIZER\n",
    "from src.next_token_dataset import NextTokenDataset, collate_fn\n",
    "from src.lstm_model import LSTMModel\n",
    "from src.lstm_train import train_model\n",
    "from src.data_utils import load_tweets, process_tweets_dataset, split_data"
   ]
  },
  {
   "cell_type": "code",
   "execution_count": 2,
   "id": "c2cdf65a",
   "metadata": {},
   "outputs": [
    {
     "data": {
      "text/plain": [
       "(device(type='cpu'), '2.7.1')"
      ]
     },
     "execution_count": 2,
     "metadata": {},
     "output_type": "execute_result"
    }
   ],
   "source": [
    "device = torch.device(\"cuda\" if torch.cuda.is_available() else \"cpu\")\n",
    "device, torch.__version__"
   ]
  },
  {
   "cell_type": "code",
   "execution_count": 3,
   "id": "465bc58d",
   "metadata": {},
   "outputs": [
    {
     "data": {
      "text/plain": [
       "<torch._C.Generator at 0x11cc98970>"
      ]
     },
     "execution_count": 3,
     "metadata": {},
     "output_type": "execute_result"
    }
   ],
   "source": [
    "random.seed(42)\n",
    "torch.manual_seed(42)"
   ]
  },
  {
   "cell_type": "markdown",
   "id": "90b7dd51",
   "metadata": {},
   "source": [
    "### Загружаем и обрабатываем твиты"
   ]
  },
  {
   "cell_type": "code",
   "execution_count": 4,
   "id": "3e8e5cc4",
   "metadata": {},
   "outputs": [],
   "source": [
    "processed_texts = process_tweets_dataset(tokenizer=TOKENIZER)"
   ]
  },
  {
   "cell_type": "code",
   "execution_count": 5,
   "id": "6648560b",
   "metadata": {},
   "outputs": [
    {
     "name": "stdout",
     "output_type": "stream",
     "text": [
      "['<', 'user', '>', '<', 'ur', '##l', '>', 'aw', '##w', '##w', ',', 'that', \"'\", 's', 'a', 'bum', '##mer', '.', 'you', 'should', '##a', 'got', 'david', 'carr', 'of', 'third', 'day', 'to', 'do', 'it', '.', ';', 'd']\n"
     ]
    }
   ],
   "source": [
    "print(processed_texts[0])"
   ]
  },
  {
   "cell_type": "markdown",
   "id": "a6a955af",
   "metadata": {},
   "source": [
    "### Разбиваем датасет на трейн, валидацию и тест"
   ]
  },
  {
   "cell_type": "code",
   "execution_count": 6,
   "id": "82ec8869",
   "metadata": {},
   "outputs": [],
   "source": [
    "train_texts, val_texts, test_texts = split_data(processed_texts)"
   ]
  },
  {
   "cell_type": "code",
   "execution_count": 7,
   "id": "c9661fe5",
   "metadata": {},
   "outputs": [],
   "source": [
    "train_dataset = NextTokenDataset(train_texts, TOKENIZER)\n",
    "val_dataset   = NextTokenDataset(val_texts, TOKENIZER)\n",
    "test_dataset  = NextTokenDataset(test_texts, TOKENIZER)"
   ]
  },
  {
   "cell_type": "code",
   "execution_count": 8,
   "id": "17d86be0",
   "metadata": {},
   "outputs": [],
   "source": [
    "pad_token_id = TOKENIZER.pad_token_id or 0\n",
    "batch_size = CONFIG['training']['batch_size']\n",
    "\n",
    "train_loader = DataLoader(\n",
    "    train_dataset,\n",
    "    batch_size=batch_size,\n",
    "    shuffle=True,\n",
    "    collate_fn=lambda b: collate_fn(b, pad_token_id))\n",
    "\n",
    "val_loader = DataLoader(\n",
    "    val_dataset,\n",
    "    batch_size=batch_size,\n",
    "    collate_fn=lambda b: collate_fn(b, pad_token_id))\n",
    "    \n",
    "test_loader  = DataLoader(\n",
    "    test_dataset,\n",
    "    batch_size=batch_size,\n",
    "    collate_fn=lambda b: collate_fn(b, pad_token_id))"
   ]
  },
  {
   "cell_type": "markdown",
   "id": "4030f419",
   "metadata": {},
   "source": [
    "## Этап 2. Объявление модели"
   ]
  },
  {
   "cell_type": "code",
   "execution_count": 9,
   "id": "6a753a60",
   "metadata": {},
   "outputs": [],
   "source": [
    "model = LSTMModel(\n",
    "    vocab_size = TOKENIZER.vocab_size,\n",
    "    embed_dim=CONFIG['model']['embed_dim'],\n",
    "    hidden_dim=CONFIG['model']['hidden_dim'],\n",
    "    num_layers=CONFIG['model']['num_layers'],\n",
    "    pad_token_id=pad_token_id\n",
    ")"
   ]
  },
  {
   "cell_type": "markdown",
   "id": "81b1d633",
   "metadata": {},
   "source": [
    "## Этап 3. Тренировка модели"
   ]
  },
  {
   "cell_type": "code",
   "execution_count": 10,
   "id": "469dc2f2",
   "metadata": {},
   "outputs": [
    {
     "name": "stderr",
     "output_type": "stream",
     "text": [
      "Epoch 1/10: 100%|██████████| 126/126 [00:48<00:00,  2.60it/s]\n",
      "Epoch 2/10: 100%|██████████| 126/126 [00:47<00:00,  2.65it/s]\n",
      "Epoch 3/10: 100%|██████████| 126/126 [00:46<00:00,  2.70it/s]\n",
      "Epoch 4/10:  16%|█▌        | 20/126 [00:08<00:43,  2.46it/s]\n"
     ]
    },
    {
     "ename": "KeyboardInterrupt",
     "evalue": "",
     "output_type": "error",
     "traceback": [
      "\u001b[0;31m---------------------------------------------------------------------------\u001b[0m",
      "\u001b[0;31mKeyboardInterrupt\u001b[0m                         Traceback (most recent call last)",
      "Cell \u001b[0;32mIn[10], line 1\u001b[0m\n\u001b[0;32m----> 1\u001b[0m trained_model, best_path \u001b[38;5;241m=\u001b[39m \u001b[43mtrain_model\u001b[49m\u001b[43m(\u001b[49m\n\u001b[1;32m      2\u001b[0m \u001b[43m    \u001b[49m\u001b[43mmodel\u001b[49m\u001b[43m,\u001b[49m\u001b[43m \u001b[49m\u001b[43mtrain_loader\u001b[49m\u001b[43m,\u001b[49m\u001b[43m \u001b[49m\u001b[43mval_loader\u001b[49m\u001b[43m,\u001b[49m\u001b[43m \u001b[49m\u001b[43mTOKENIZER\u001b[49m\u001b[43m,\u001b[49m\u001b[43m \u001b[49m\u001b[43mdevice\u001b[49m\u001b[43m,\u001b[49m\n\u001b[1;32m      3\u001b[0m \u001b[43m    \u001b[49m\u001b[43mepochs\u001b[49m\u001b[38;5;241;43m=\u001b[39;49m\u001b[43mCONFIG\u001b[49m\u001b[43m[\u001b[49m\u001b[38;5;124;43m'\u001b[39;49m\u001b[38;5;124;43mtraining\u001b[39;49m\u001b[38;5;124;43m'\u001b[39;49m\u001b[43m]\u001b[49m\u001b[43m[\u001b[49m\u001b[38;5;124;43m'\u001b[39;49m\u001b[38;5;124;43mepochs\u001b[39;49m\u001b[38;5;124;43m'\u001b[39;49m\u001b[43m]\u001b[49m\u001b[43m,\u001b[49m\n\u001b[1;32m      4\u001b[0m \u001b[43m    \u001b[49m\u001b[43mlr\u001b[49m\u001b[38;5;241;43m=\u001b[39;49m\u001b[43mCONFIG\u001b[49m\u001b[43m[\u001b[49m\u001b[38;5;124;43m'\u001b[39;49m\u001b[38;5;124;43mtraining\u001b[39;49m\u001b[38;5;124;43m'\u001b[39;49m\u001b[43m]\u001b[49m\u001b[43m[\u001b[49m\u001b[38;5;124;43m'\u001b[39;49m\u001b[38;5;124;43mlr\u001b[39;49m\u001b[38;5;124;43m'\u001b[39;49m\u001b[43m]\u001b[49m\u001b[43m,\u001b[49m\n\u001b[1;32m      5\u001b[0m \u001b[43m    \u001b[49m\u001b[43mweight_decay\u001b[49m\u001b[38;5;241;43m=\u001b[39;49m\u001b[43mCONFIG\u001b[49m\u001b[43m[\u001b[49m\u001b[38;5;124;43m'\u001b[39;49m\u001b[38;5;124;43mtraining\u001b[39;49m\u001b[38;5;124;43m'\u001b[39;49m\u001b[43m]\u001b[49m\u001b[43m[\u001b[49m\u001b[38;5;124;43m'\u001b[39;49m\u001b[38;5;124;43mweight_decay\u001b[39;49m\u001b[38;5;124;43m'\u001b[39;49m\u001b[43m]\u001b[49m\u001b[43m,\u001b[49m\n\u001b[1;32m      6\u001b[0m \u001b[43m    \u001b[49m\u001b[43mpad_token_id\u001b[49m\u001b[38;5;241;43m=\u001b[39;49m\u001b[43mpad_token_id\u001b[49m\n\u001b[1;32m      7\u001b[0m \u001b[43m)\u001b[49m\n",
      "File \u001b[0;32m~/dl_projects/text-autocomplete/src/lstm_train.py:54\u001b[0m, in \u001b[0;36mtrain_model\u001b[0;34m(model, train_loader, val_loader, tokenizer, device, epochs, lr, weight_decay, pad_token_id, save_dir)\u001b[0m\n\u001b[1;32m     51\u001b[0m logits, _ \u001b[38;5;241m=\u001b[39m model(input_ids)\n\u001b[1;32m     53\u001b[0m loss \u001b[38;5;241m=\u001b[39m criterion(logits\u001b[38;5;241m.\u001b[39mview(\u001b[38;5;241m-\u001b[39m\u001b[38;5;241m1\u001b[39m, logits\u001b[38;5;241m.\u001b[39msize(\u001b[38;5;241m-\u001b[39m\u001b[38;5;241m1\u001b[39m)), labels\u001b[38;5;241m.\u001b[39mview(\u001b[38;5;241m-\u001b[39m\u001b[38;5;241m1\u001b[39m))\n\u001b[0;32m---> 54\u001b[0m \u001b[43mloss\u001b[49m\u001b[38;5;241;43m.\u001b[39;49m\u001b[43mbackward\u001b[49m\u001b[43m(\u001b[49m\u001b[43m)\u001b[49m\n\u001b[1;32m     55\u001b[0m torch\u001b[38;5;241m.\u001b[39mnn\u001b[38;5;241m.\u001b[39mutils\u001b[38;5;241m.\u001b[39mclip_grad_norm_(model\u001b[38;5;241m.\u001b[39mparameters(), \u001b[38;5;241m1.0\u001b[39m)\n\u001b[1;32m     56\u001b[0m optimizer\u001b[38;5;241m.\u001b[39mstep()\n",
      "File \u001b[0;32m~/dl_projects/text-autocomplete/.venv/lib/python3.12/site-packages/torch/_tensor.py:648\u001b[0m, in \u001b[0;36mTensor.backward\u001b[0;34m(self, gradient, retain_graph, create_graph, inputs)\u001b[0m\n\u001b[1;32m    638\u001b[0m \u001b[38;5;28;01mif\u001b[39;00m has_torch_function_unary(\u001b[38;5;28mself\u001b[39m):\n\u001b[1;32m    639\u001b[0m     \u001b[38;5;28;01mreturn\u001b[39;00m handle_torch_function(\n\u001b[1;32m    640\u001b[0m         Tensor\u001b[38;5;241m.\u001b[39mbackward,\n\u001b[1;32m    641\u001b[0m         (\u001b[38;5;28mself\u001b[39m,),\n\u001b[0;32m   (...)\u001b[0m\n\u001b[1;32m    646\u001b[0m         inputs\u001b[38;5;241m=\u001b[39minputs,\n\u001b[1;32m    647\u001b[0m     )\n\u001b[0;32m--> 648\u001b[0m \u001b[43mtorch\u001b[49m\u001b[38;5;241;43m.\u001b[39;49m\u001b[43mautograd\u001b[49m\u001b[38;5;241;43m.\u001b[39;49m\u001b[43mbackward\u001b[49m\u001b[43m(\u001b[49m\n\u001b[1;32m    649\u001b[0m \u001b[43m    \u001b[49m\u001b[38;5;28;43mself\u001b[39;49m\u001b[43m,\u001b[49m\u001b[43m \u001b[49m\u001b[43mgradient\u001b[49m\u001b[43m,\u001b[49m\u001b[43m \u001b[49m\u001b[43mretain_graph\u001b[49m\u001b[43m,\u001b[49m\u001b[43m \u001b[49m\u001b[43mcreate_graph\u001b[49m\u001b[43m,\u001b[49m\u001b[43m \u001b[49m\u001b[43minputs\u001b[49m\u001b[38;5;241;43m=\u001b[39;49m\u001b[43minputs\u001b[49m\n\u001b[1;32m    650\u001b[0m \u001b[43m\u001b[49m\u001b[43m)\u001b[49m\n",
      "File \u001b[0;32m~/dl_projects/text-autocomplete/.venv/lib/python3.12/site-packages/torch/autograd/__init__.py:353\u001b[0m, in \u001b[0;36mbackward\u001b[0;34m(tensors, grad_tensors, retain_graph, create_graph, grad_variables, inputs)\u001b[0m\n\u001b[1;32m    348\u001b[0m     retain_graph \u001b[38;5;241m=\u001b[39m create_graph\n\u001b[1;32m    350\u001b[0m \u001b[38;5;66;03m# The reason we repeat the same comment below is that\u001b[39;00m\n\u001b[1;32m    351\u001b[0m \u001b[38;5;66;03m# some Python versions print out the first line of a multi-line function\u001b[39;00m\n\u001b[1;32m    352\u001b[0m \u001b[38;5;66;03m# calls in the traceback and some print out the last line\u001b[39;00m\n\u001b[0;32m--> 353\u001b[0m \u001b[43m_engine_run_backward\u001b[49m\u001b[43m(\u001b[49m\n\u001b[1;32m    354\u001b[0m \u001b[43m    \u001b[49m\u001b[43mtensors\u001b[49m\u001b[43m,\u001b[49m\n\u001b[1;32m    355\u001b[0m \u001b[43m    \u001b[49m\u001b[43mgrad_tensors_\u001b[49m\u001b[43m,\u001b[49m\n\u001b[1;32m    356\u001b[0m \u001b[43m    \u001b[49m\u001b[43mretain_graph\u001b[49m\u001b[43m,\u001b[49m\n\u001b[1;32m    357\u001b[0m \u001b[43m    \u001b[49m\u001b[43mcreate_graph\u001b[49m\u001b[43m,\u001b[49m\n\u001b[1;32m    358\u001b[0m \u001b[43m    \u001b[49m\u001b[43minputs\u001b[49m\u001b[43m,\u001b[49m\n\u001b[1;32m    359\u001b[0m \u001b[43m    \u001b[49m\u001b[43mallow_unreachable\u001b[49m\u001b[38;5;241;43m=\u001b[39;49m\u001b[38;5;28;43;01mTrue\u001b[39;49;00m\u001b[43m,\u001b[49m\n\u001b[1;32m    360\u001b[0m \u001b[43m    \u001b[49m\u001b[43maccumulate_grad\u001b[49m\u001b[38;5;241;43m=\u001b[39;49m\u001b[38;5;28;43;01mTrue\u001b[39;49;00m\u001b[43m,\u001b[49m\n\u001b[1;32m    361\u001b[0m \u001b[43m\u001b[49m\u001b[43m)\u001b[49m\n",
      "File \u001b[0;32m~/dl_projects/text-autocomplete/.venv/lib/python3.12/site-packages/torch/autograd/graph.py:824\u001b[0m, in \u001b[0;36m_engine_run_backward\u001b[0;34m(t_outputs, *args, **kwargs)\u001b[0m\n\u001b[1;32m    822\u001b[0m     unregister_hooks \u001b[38;5;241m=\u001b[39m _register_logging_hooks_on_whole_graph(t_outputs)\n\u001b[1;32m    823\u001b[0m \u001b[38;5;28;01mtry\u001b[39;00m:\n\u001b[0;32m--> 824\u001b[0m     \u001b[38;5;28;01mreturn\u001b[39;00m \u001b[43mVariable\u001b[49m\u001b[38;5;241;43m.\u001b[39;49m\u001b[43m_execution_engine\u001b[49m\u001b[38;5;241;43m.\u001b[39;49m\u001b[43mrun_backward\u001b[49m\u001b[43m(\u001b[49m\u001b[43m  \u001b[49m\u001b[38;5;66;43;03m# Calls into the C++ engine to run the backward pass\u001b[39;49;00m\n\u001b[1;32m    825\u001b[0m \u001b[43m        \u001b[49m\u001b[43mt_outputs\u001b[49m\u001b[43m,\u001b[49m\u001b[43m \u001b[49m\u001b[38;5;241;43m*\u001b[39;49m\u001b[43margs\u001b[49m\u001b[43m,\u001b[49m\u001b[43m \u001b[49m\u001b[38;5;241;43m*\u001b[39;49m\u001b[38;5;241;43m*\u001b[39;49m\u001b[43mkwargs\u001b[49m\n\u001b[1;32m    826\u001b[0m \u001b[43m    \u001b[49m\u001b[43m)\u001b[49m  \u001b[38;5;66;03m# Calls into the C++ engine to run the backward pass\u001b[39;00m\n\u001b[1;32m    827\u001b[0m \u001b[38;5;28;01mfinally\u001b[39;00m:\n\u001b[1;32m    828\u001b[0m     \u001b[38;5;28;01mif\u001b[39;00m attach_logging_hooks:\n",
      "\u001b[0;31mKeyboardInterrupt\u001b[0m: "
     ]
    }
   ],
   "source": [
    "trained_model, best_path = train_model(\n",
    "    model, train_loader, val_loader, TOKENIZER, device,\n",
    "    epochs=CONFIG['training']['epochs'],\n",
    "    lr=CONFIG['training']['lr'],\n",
    "    weight_decay=CONFIG['training']['weight_decay'],\n",
    "    pad_token_id=pad_token_id\n",
    ")"
   ]
  },
  {
   "cell_type": "markdown",
   "id": "9072a75e",
   "metadata": {},
   "source": [
    "## Этап 4. Использование предобученного трансформера"
   ]
  },
  {
   "cell_type": "markdown",
   "id": "5976924b",
   "metadata": {},
   "source": [
    "Загрузка baseline модели"
   ]
  },
  {
   "cell_type": "code",
   "execution_count": 11,
   "id": "2b23512d",
   "metadata": {},
   "outputs": [
    {
     "name": "stdout",
     "output_type": "stream",
     "text": [
      "Загрузка предобученной модели distilgpt2...\n"
     ]
    },
    {
     "name": "stderr",
     "output_type": "stream",
     "text": [
      "Device set to use cpu\n"
     ]
    },
    {
     "name": "stdout",
     "output_type": "stream",
     "text": [
      "Модель загружена успешно!\n"
     ]
    }
   ],
   "source": [
    "baseline = DistilGPT2Baseline()"
   ]
  },
  {
   "cell_type": "markdown",
   "id": "d92c73a6",
   "metadata": {},
   "source": [
    "Создаем валидационную выборку из исходных текстов"
   ]
  },
  {
   "cell_type": "code",
   "execution_count": 12,
   "id": "9a050fe1",
   "metadata": {},
   "outputs": [],
   "source": [
    "train_original, val_original, test_original = split_data(\n",
    "    load_tweets(),\n",
    "    save_data=False\n",
    ")"
   ]
  },
  {
   "cell_type": "code",
   "execution_count": 13,
   "id": "1a417bc5",
   "metadata": {},
   "outputs": [
    {
     "ename": "NameError",
     "evalue": "name 'evaluate_scores' is not defined",
     "output_type": "error",
     "traceback": [
      "\u001b[0;31m---------------------------------------------------------------------------\u001b[0m",
      "\u001b[0;31mNameError\u001b[0m                                 Traceback (most recent call last)",
      "Cell \u001b[0;32mIn[13], line 1\u001b[0m\n\u001b[0;32m----> 1\u001b[0m \u001b[43mevaluate_scores\u001b[49m(baseline, val_original)\n",
      "\u001b[0;31mNameError\u001b[0m: name 'evaluate_scores' is not defined"
     ]
    }
   ],
   "source": [
    "evaluate_scores(baseline, val_original)"
   ]
  },
  {
   "cell_type": "markdown",
   "id": "5635cbcf",
   "metadata": {},
   "source": [
    "## Этап 5. Формулирование выводов\n",
    "\n",
    "Сравниваем производительность двух моделей на валидационной выборке"
   ]
  },
  {
   "cell_type": "code",
   "execution_count": null,
   "id": "8ae1723c",
   "metadata": {},
   "outputs": [
    {
     "name": "stdout",
     "output_type": "stream",
     "text": [
      "\n",
      "=== Сравнение LSTM с baseline моделью ===\n",
      "Оценка LSTM модели...\n"
     ]
    },
    {
     "name": "stderr",
     "output_type": "stream",
     "text": [
      "INFO:absl:Using default tokenizer.\n"
     ]
    },
    {
     "name": "stdout",
     "output_type": "stream",
     "text": [
      "Оценка baseline модели...\n",
      "Оценка distilgpt2 на 2000 примерах...\n"
     ]
    },
    {
     "name": "stderr",
     "output_type": "stream",
     "text": [
      "100%|██████████| 2000/2000 [02:13<00:00, 14.98it/s]\n",
      "INFO:absl:Using default tokenizer.\n"
     ]
    },
    {
     "name": "stdout",
     "output_type": "stream",
     "text": [
      "Обработано 1974 примеров\n",
      "\n",
      "Сравнение результатов:\n",
      "Модель          ROUGE-1    ROUGE-2    ROUGE-L   \n",
      "--------------------------------------------------\n",
      "LSTM            0.0334     0.0028     0.0327\n",
      "Baseline        0.0658     0.0084     0.0651\n",
      "\n",
      "Baseline показывает лучшие результаты (ROUGE-L: 0.0651 vs 0.0327)\n"
     ]
    }
   ],
   "source": [
    "results = compare_models(model, baseline, val_loader, val_original, device)"
   ]
  },
  {
   "cell_type": "markdown",
   "id": "d2351cc3",
   "metadata": {},
   "source": [
    "Извлекаем результаты для графиков"
   ]
  },
  {
   "cell_type": "code",
   "execution_count": null,
   "id": "f37f1d24",
   "metadata": {},
   "outputs": [],
   "source": [
    "lstm_rouge1 = results['lstm_rouge1']\n",
    "lstm_rouge2 = results['lstm_rouge2']\n",
    "lstm_rouge_l = results['lstm_rouge_l']\n",
    "final_rouge1 = results['baseline_rouge1']\n",
    "final_rouge2 = results['baseline_rouge2']\n",
    "final_rouge_l = results['baseline_rouge_l']"
   ]
  },
  {
   "cell_type": "markdown",
   "id": "3d2fcb43",
   "metadata": {},
   "source": [
    "График сравнения ROUGE метрик"
   ]
  },
  {
   "cell_type": "code",
   "execution_count": null,
   "id": "6ea7737f",
   "metadata": {},
   "outputs": [
    {
     "data": {
      "image/png": "[encoded data removed]",
      "text/plain": [
       "<Figure size 1500x500 with 3 Axes>"
      ]
     },
     "metadata": {},
     "output_type": "display_data"
    },
    {
     "data": {
      "image/png": "[encoded data removed]",
      "text/plain": [
       "<Figure size 1000x600 with 1 Axes>"
      ]
     },
     "metadata": {},
     "output_type": "display_data"
    }
   ],
   "source": [
    "fig, axes = plt.subplots(1, 3, figsize=(15, 5))\n",
    "\n",
    "models = ['LSTM', 'distilgpt2']\n",
    "rouge1_scores = [lstm_rouge1, final_rouge1]\n",
    "rouge2_scores = [lstm_rouge2, final_rouge2]\n",
    "rougeL_scores = [lstm_rouge_l, final_rouge_l]\n",
    "\n",
    "axes[0].bar(models, rouge1_scores, color=['skyblue', 'lightcoral'])\n",
    "axes[0].set_title('ROUGE-1')\n",
    "axes[0].set_ylabel('Score')\n",
    "for i, v in enumerate(rouge1_scores):\n",
    "    axes[0].text(i, v + 0.001, f'{v:.4f}', ha='center')\n",
    "\n",
    "axes[1].bar(models, rouge2_scores, color=['skyblue', 'lightcoral'])\n",
    "axes[1].set_title('ROUGE-2')\n",
    "axes[1].set_ylabel('Score')\n",
    "for i, v in enumerate(rouge2_scores):\n",
    "    axes[1].text(i, v + 0.001, f'{v:.4f}', ha='center')\n",
    "\n",
    "axes[2].bar(models, rougeL_scores, color=['skyblue', 'lightcoral'])\n",
    "axes[2].set_title('ROUGE-L')\n",
    "axes[2].set_ylabel('Score')\n",
    "for i, v in enumerate(rougeL_scores):\n",
    "    axes[2].text(i, v + 0.001, f'{v:.4f}', ha='center')\n",
    "\n",
    "plt.tight_layout()\n",
    "plt.show()"
   ]
  },
  {
   "cell_type": "markdown",
   "id": "8a47a64f",
   "metadata": {},
   "source": [
    "Выбираем несколько примеров из валидационной выборки"
   ]
  },
  {
   "cell_type": "code",
   "execution_count": 27,
   "id": "6045533a",
   "metadata": {},
   "outputs": [],
   "source": [
    "sample_indices = [0, 10, 50, 100, 200]\n",
    "sample_texts = [val_original[i] for i in sample_indices if i < len(val_original)]"
   ]
  },
  {
   "cell_type": "markdown",
   "id": "48dce818",
   "metadata": {},
   "source": [
    "Генерация примеров"
   ]
  },
  {
   "cell_type": "code",
   "execution_count": null,
   "id": "c9ffa3bd",
   "metadata": {},
   "outputs": [
    {
     "name": "stdout",
     "output_type": "stream",
     "text": [
      "\n",
      "=== Примеры генерации ===\n",
      "\n",
      "--- Пример 1 ---\n",
      "Исходный текст: @mgatton nice hair cut!  dude why were your students leaving in the middle of class, 1st period?\n",
      "...\n",
      "Контекст: < user > nice hair cut! dude why were your students leaving in the middle\n",
      "Ожидаемое продолжение: of class, 1st period?\n",
      "LSTM продолжение: ?!? xxx? i ' m sad.\n",
      "Baseline продолжение: of the night?\n",
      "\n",
      "--- Пример 2 ---\n",
      "Исходный текст: Just packed my stethoscope \n",
      "...\n",
      "Контекст: just packed my steth\n",
      "Ожидаемое продолжение: ##oscope\n",
      "LSTM продолжение: : ' my face!!!\n",
      "Baseline продолжение: oscope and I was able to get\n",
      "\n",
      "--- Пример 3 ---\n",
      "Исходный текст: I couldn't go to the Revlon Run Walk today because my formerly broken ankle is throbbing.  \n",
      "...\n",
      "Контекст: i couldn ' t go to the revlon run walk today because my formerly\n",
      "Ожидаемое продолжение: broken ankle is throbbing.\n",
      "LSTM продолжение: was still a huge......\n",
      "Baseline продолжение: -in-law, a former employee, was\n",
      "\n",
      "--- Пример 4 ---\n",
      "Исходный текст: too much ice cream! \n",
      "...\n",
      "Контекст: too much ice\n",
      "Ожидаемое продолжение: cream!\n",
      "LSTM продолжение: on monday i can ' t wait\n",
      "Baseline продолжение: ,” he said. �\n",
      "\n",
      "--- Пример 5 ---\n",
      "Исходный текст: Don't have my ipod \n",
      "...\n",
      "Контекст: don ' t have\n",
      "Ожидаемое продолжение: my ipod\n",
      "LSTM продолжение: for the whole day!!!\n",
      "Baseline продолжение: to be a bit more careful about\n"
     ]
    }
   ],
   "source": [
    "examples = generate_examples(model, baseline, TOKENIZER, device, sample_texts)"
   ]
  }
 ],
 "metadata": {
  "kernelspec": {
   "display_name": "Python 3",
   "language": "python",
   "name": "python3"
  },
  "language_info": {
   "codemirror_mode": {
    "name": "ipython",
    "version": 3
   },
   "file_extension": ".py",
   "mimetype": "text/x-python",
   "name": "python",
   "nbconvert_exporter": "python",
   "pygments_lexer": "ipython3",
   "version": "3.11.13"
  }
 },
 "nbformat": 4,
 "nbformat_minor": 5
}
